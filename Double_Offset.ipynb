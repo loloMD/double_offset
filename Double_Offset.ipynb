{
  "nbformat": 4,
  "nbformat_minor": 0,
  "metadata": {
    "colab": {
      "name": "Copie de Copie de DoubleOffset.ipynb",
      "provenance": [],
      "collapsed_sections": [
        "MzlMGXm7Or8u"
      ]
    },
    "kernelspec": {
      "display_name": "Python 3",
      "language": "python",
      "name": "python3"
    },
    "language_info": {
      "codemirror_mode": {
        "name": "ipython",
        "version": 3
      },
      "file_extension": ".py",
      "mimetype": "text/x-python",
      "name": "python",
      "nbconvert_exporter": "python",
      "pygments_lexer": "ipython3",
      "version": "3.7.6"
    }
  },
  "cells": [
    {
      "cell_type": "code",
      "metadata": {
        "id": "5wiQgYLzy8qk"
      },
      "source": [
        "# Necessary imports\n",
        "import matplotlib.pyplot as plt\n",
        "import numpy as np\n",
        "\n",
        "from PIL import Image, ImageDraw\n",
        "\n",
        "from tqdm.notebook import tqdm\n",
        "\n",
        "from time import process_time \n",
        "\n",
        "import multiprocessing  \n",
        "from multiprocessing import Pool\n",
        "\n",
        "%matplotlib inline      "
      ],
      "execution_count": null,
      "outputs": []
    },
    {
      "cell_type": "code",
      "metadata": {
        "id": "vpxoCaGRkh4N"
      },
      "source": [
        "# Download polygons\r\n",
        "!wget --quiet https://tong-zhao.github.io/assets/data/box.xy\r\n",
        "!wget --quiet https://tong-zhao.github.io/assets/data/stacked_box.xy\r\n",
        "!wget --quiet https://tong-zhao.github.io/assets/data/star.xy"
      ],
      "execution_count": null,
      "outputs": []
    },
    {
      "cell_type": "code",
      "metadata": {
        "colab": {
          "base_uri": "https://localhost:8080/"
        },
        "id": "-reRZ6nGQQMe",
        "outputId": "15af83df-ec64-429f-c01f-2a4237c954a4"
      },
      "source": [
        "coordonne_s = np.array([[-1,2],[1,2],[0.5,0],[1,-2],[-1,-2],[-0.5,0]])\r\n",
        "f_s = open(\"sablier.xy\",\"w\")\r\n",
        "np.savetxt(f_s, coordonne_s, delimiter = ' ')\r\n",
        "f_s.close()\r\n",
        "\r\n",
        "!cat sablier.xy"
      ],
      "execution_count": null,
      "outputs": [
        {
          "output_type": "stream",
          "text": [
            "-1.000000000000000000e+00 2.000000000000000000e+00\n",
            "1.000000000000000000e+00 2.000000000000000000e+00\n",
            "5.000000000000000000e-01 0.000000000000000000e+00\n",
            "1.000000000000000000e+00 -2.000000000000000000e+00\n",
            "-1.000000000000000000e+00 -2.000000000000000000e+00\n",
            "-5.000000000000000000e-01 0.000000000000000000e+00\n"
          ],
          "name": "stdout"
        }
      ]
    },
    {
      "cell_type": "code",
      "metadata": {
        "colab": {
          "base_uri": "https://localhost:8080/"
        },
        "id": "O7gM6-RAQRLo",
        "outputId": "f6b00369-f22b-4d8f-8b96-8fa7d628c6ab"
      },
      "source": [
        "coordonne_e = np.array([[-2,0],[0.5,3],[0.5,0],[2,0],[-0.5,-3],[-0.5,0]])\r\n",
        "f_e = open(\"eclair.xy\",\"w\")\r\n",
        "np.savetxt(f_e, coordonne_e, delimiter = ' ')\r\n",
        "f_e.close()\r\n",
        "\r\n",
        "!cat eclair.xy"
      ],
      "execution_count": null,
      "outputs": [
        {
          "output_type": "stream",
          "text": [
            "-2.000000000000000000e+00 0.000000000000000000e+00\n",
            "5.000000000000000000e-01 3.000000000000000000e+00\n",
            "5.000000000000000000e-01 0.000000000000000000e+00\n",
            "2.000000000000000000e+00 0.000000000000000000e+00\n",
            "-5.000000000000000000e-01 -3.000000000000000000e+00\n",
            "-5.000000000000000000e-01 0.000000000000000000e+00\n"
          ],
          "name": "stdout"
        }
      ]
    },
    {
      "cell_type": "code",
      "metadata": {
        "colab": {
          "base_uri": "https://localhost:8080/"
        },
        "id": "dYneYM_iQVn4",
        "outputId": "5fbff280-a938-428a-b16f-23ed8ee56773"
      },
      "source": [
        "coordonne_sapin = np.array([[-3,0],[-1.5,-1],[-2.5,-1],[-1,-2],[-1.5,-2],[0,-3],[1.5,-2],[1,-2],[2.5,-1],[1.5,-1],[3,0]])\r\n",
        "f_sap = open(\"sapin.xy\",\"w\")\r\n",
        "np.savetxt(f_sap, coordonne_sapin, delimiter = ' ')\r\n",
        "f_sap.close()\r\n",
        "\r\n",
        "!cat sapin.xy"
      ],
      "execution_count": null,
      "outputs": [
        {
          "output_type": "stream",
          "text": [
            "-3.000000000000000000e+00 0.000000000000000000e+00\n",
            "-1.500000000000000000e+00 -1.000000000000000000e+00\n",
            "-2.500000000000000000e+00 -1.000000000000000000e+00\n",
            "-1.000000000000000000e+00 -2.000000000000000000e+00\n",
            "-1.500000000000000000e+00 -2.000000000000000000e+00\n",
            "0.000000000000000000e+00 -3.000000000000000000e+00\n",
            "1.500000000000000000e+00 -2.000000000000000000e+00\n",
            "1.000000000000000000e+00 -2.000000000000000000e+00\n",
            "2.500000000000000000e+00 -1.000000000000000000e+00\n",
            "1.500000000000000000e+00 -1.000000000000000000e+00\n",
            "3.000000000000000000e+00 0.000000000000000000e+00\n"
          ],
          "name": "stdout"
        }
      ]
    },
    {
      "cell_type": "code",
      "metadata": {
        "id": "GabDieISzj2D"
      },
      "source": [
        "img_size = 256\n",
        "epsilon = 1e-2"
      ],
      "execution_count": null,
      "outputs": []
    },
    {
      "cell_type": "markdown",
      "metadata": {
        "id": "BZeWmIjUy8qn"
      },
      "source": [
        "## I/O Functions"
      ]
    },
    {
      "cell_type": "code",
      "metadata": {
        "id": "rOLNUq17y8qn"
      },
      "source": [
        "def read_xy(file):\n",
        "    \n",
        "    with open(file, \"r\") as fp:\n",
        "        fp_line = fp.read().split(\"\\n\")[:-1]\n",
        "    \n",
        "    points = np.array([line.split() for line in fp_line]).astype(float)\n",
        "    # center all points\n",
        "    centroid = (points.mean(0)).reshape((1, -1))\n",
        "    points = points - centroid\n",
        "    # normalize shape length\n",
        "    length = (points.max(0) - points.min(0)).max() / (img_size * 0.7)\n",
        "    normalized_pts = (points / length).astype(int) + img_size // 2\n",
        "    \n",
        "    return normalized_pts"
      ],
      "execution_count": null,
      "outputs": []
    },
    {
      "cell_type": "markdown",
      "metadata": {
        "id": "Yn3wbmK9y8qo"
      },
      "source": [
        "## Visualization Functions "
      ]
    },
    {
      "cell_type": "code",
      "metadata": {
        "id": "5eGd6A55y8qo"
      },
      "source": [
        "def plot_polygon(poly_verts, size = 8):\n",
        "    \n",
        "    img = Image.new('L', (img_size, img_size)) #image en noir et blanc  (un pixel sur 8bit)\n",
        "    ImageDraw.Draw(img).polygon(points.reshape((-1, )).tolist(), outline = 'blue', fill = 'white')\n",
        "    \n",
        "    plt.figure(figsize = (size, size))\n",
        "    plt.imshow(img, cmap='gray')\n",
        "    plt.plot()"
      ],
      "execution_count": null,
      "outputs": []
    },
    {
      "cell_type": "code",
      "metadata": {
        "id": "eTS3u3qjy8qp"
      },
      "source": [
        "def plot_signed_distance_field(dist_map, poly_verts, size = 8):\n",
        "    \n",
        "    pos_dist_map = dist_map - dist_map.min()\n",
        "    img_dist = Image.fromarray(np.uint8(pos_dist_map / pos_dist_map.max() * 255) , 'L')\n",
        "    ImageDraw.Draw(img_dist).polygon(poly_verts.reshape((-1, )).tolist(), outline = 'blue', fill = None)\n",
        "\n",
        "    plt.figure(figsize = (size, size))\n",
        "    plt.imshow(img_dist)\n",
        "    plt.plot()"
      ],
      "execution_count": null,
      "outputs": []
    },
    {
      "cell_type": "code",
      "metadata": {
        "id": "tvdc5NWyy8qp"
      },
      "source": [
        "def plot_offset(offset, size = 8):\n",
        "    \n",
        "    img_dist = Image.fromarray(np.uint8(offset * 255) , 'L')\n",
        "\n",
        "    plt.figure(figsize = (size, size))\n",
        "    plt.imshow(img_dist, cmap = 'gray')\n",
        "    plt.plot()"
      ],
      "execution_count": null,
      "outputs": []
    },
    {
      "cell_type": "markdown",
      "metadata": {
        "id": "f41Hp1NHy8qp"
      },
      "source": [
        "## Geometric Functions"
      ]
    },
    {
      "cell_type": "markdown",
      "metadata": {
        "id": "pGktkwMOy8qq"
      },
      "source": [
        "### Intersection between segments"
      ]
    },
    {
      "cell_type": "code",
      "metadata": {
        "id": "55RUocvmy8qq"
      },
      "source": [
        "def ccw(A, B, C):\n",
        "    return (C[1] - A[1]) * (B[0] - A[0]) > (B[1] - A[1]) * (C[0] - A[0])\n",
        "\n",
        "# Return true if line segments AB and CD intersect\n",
        "def intersect_point_segment(A, B, C, D):\n",
        "    return ccw(A, C, D) != ccw(B, C, D) and ccw(A, B, C) != ccw(A, B, D)"
      ],
      "execution_count": null,
      "outputs": []
    },
    {
      "cell_type": "code",
      "metadata": {
        "id": "03-7fDQGy8qq"
      },
      "source": [
        "def ccw_matrix(A, B, C):\n",
        "    \n",
        "    return (C[:, 1] - A[:, 1]) * (B[:, 0] - A[:, 0]) > (B[:, 1] - A[:, 1]) * (C[:, 0] - A[:, 0])\n",
        "\n",
        "def intersect_matrix_segment(A, mat_b, C, D): # only B is matrix\n",
        "    \n",
        "    num = mat_b.shape[0]\n",
        "    mat_a = np.tile(A.reshape((1, -1)), (num, 1))\n",
        "    mat_c = np.tile(C.reshape((1, -1)), (num, 1))\n",
        "    mat_d = np.tile(D.reshape((1, -1)), (num, 1))\n",
        "    \n",
        "    return np.logical_and(np.logical_xor(ccw_matrix(mat_a, mat_c, mat_d), ccw_matrix(mat_b, mat_c, mat_d)), \n",
        "                          np.logical_xor(ccw_matrix(mat_a, mat_b, mat_c), ccw_matrix(mat_a, mat_b, mat_d)))\n",
        "    \n",
        "    #rend une matrice (256**2,2) "
      ],
      "execution_count": null,
      "outputs": []
    },
    {
      "cell_type": "markdown",
      "metadata": {
        "id": "3mdq4y7Uy8qr"
      },
      "source": [
        "### Distance Functions"
      ]
    },
    {
      "cell_type": "code",
      "metadata": {
        "id": "s9Rc0hjiy8qr"
      },
      "source": [
        "def distance_from_point_to_segment(query, seg_a, seg_b):\n",
        "    \n",
        "    vec_qa = query - seg_a\n",
        "    vec_ba = seg_b - seg_a\n",
        "    \n",
        "    dot_prod = (vec_qa * vec_ba).sum()\n",
        "    len_ba = (vec_ba * vec_ba).sum()\n",
        "    \n",
        "    lambd = dot_prod / len_ba\n",
        "    \n",
        "    if lambd <= 0:\n",
        "        return np.linalg.norm(query - seg_a)\n",
        "    elif lambd >= 1:\n",
        "        return np.linalg.norm(query - seg_b)\n",
        "    else:\n",
        "        proj = seg_a + lambd * vec_ba\n",
        "        return np.linalg.norm(query - proj)"
      ],
      "execution_count": null,
      "outputs": []
    },
    {
      "cell_type": "code",
      "metadata": {
        "id": "ts6doaX1y8qr"
      },
      "source": [
        "def distance_from_matrix_to_segment(points, seg_a, seg_b):\n",
        "    \n",
        "    mat_qa = points - seg_a\n",
        "    vec_ba = (seg_b - seg_a).reshape((1, -1))\n",
        "    \n",
        "    dot_prod = (mat_qa * vec_ba).sum(1)\n",
        "    len_ba = (vec_ba * vec_ba).sum()\n",
        "    \n",
        "    lambd = dot_prod / len_ba\n",
        "    dists = np.zeros_like(lambd)\n",
        "    \n",
        "    indices_0 = (lambd <= 0)\n",
        "    indices_1 = (lambd >= 1)\n",
        "    indices_2 = np.logical_and(np.logical_not(indices_0), np.logical_not(indices_1))\n",
        "    \n",
        "    dists[indices_0] = np.linalg.norm(points[indices_0] - seg_a, axis = 1)\n",
        "    dists[indices_1] = np.linalg.norm(points[indices_1] - seg_b, axis = 1)\n",
        "    dists[indices_2] = np.linalg.norm(points[indices_2] - seg_a - lambd[indices_2].reshape((-1, 1)) * vec_ba, axis = 1)\n",
        "    \n",
        "    return dists.reshape((-1, 1))"
      ],
      "execution_count": null,
      "outputs": []
    },
    {
      "cell_type": "markdown",
      "metadata": {
        "id": "0Gc66Dsxy8qs"
      },
      "source": [
        "### Distance Oracle"
      ]
    },
    {
      "cell_type": "code",
      "metadata": {
        "id": "piQ7Iayxy8qs"
      },
      "source": [
        "class DistanceQuery:\n",
        "    \n",
        "    def __init__(self):\n",
        "        self.poly_verts = []\n",
        "        self.size = 0\n",
        "        \n",
        "    def is_init(self):\n",
        "        return True if self.size > 0 else False\n",
        "        \n",
        "    def update(self, poly_verts):\n",
        "        self.poly_verts = poly_verts\n",
        "        self.size = poly_verts.shape[0]\n",
        "        \n",
        "    def distance(self, query):\n",
        "        min_dist = 1e10\n",
        "        count = 0\n",
        "        for i in range(self.size):\n",
        "            dist = distance_from_point_to_segment(query, self.poly_verts[i], self.poly_verts[(i + 1) % self.size])\n",
        "            min_dist = min(dist, min_dist)\n",
        "            if intersect_point_segment([0, 0], query, self.poly_verts[i], self.poly_verts[(i + 1) % self.size]):\n",
        "                count += 1\n",
        "                \n",
        "        if count % 2 == 1:\n",
        "            min_dist = -min_dist\n",
        "        \n",
        "        return min_dist \n",
        "    \n",
        "    def distance_matrix(self, query_mat):\n",
        "        min_dists = []\n",
        "        min_count = np.zeros((query_mat.shape[0], 1))\n",
        "        \n",
        "        for i in range(self.size):\n",
        "            dist = distance_from_matrix_to_segment(query_mat, \n",
        "                                                   self.poly_verts[i], \n",
        "                                                   self.poly_verts[(i + 1) % self.size])\n",
        "            min_dists.append(dist)\n",
        "            \n",
        "            count = intersect_matrix_segment(np.array([0, 0]), query_mat, \n",
        "                                             self.poly_verts[i], \n",
        "                                             self.poly_verts[(i + 1) % self.size])\n",
        "            min_count = min_count + count.reshape((-1, 1))\n",
        "            \n",
        "        min_dists = np.hstack(min_dists).min(1)\n",
        "        flag_neg = np.squeeze(min_count % 2 == 1)\n",
        "        min_dists[flag_neg] = -min_dists[flag_neg]\n",
        "        \n",
        "        return min_dists"
      ],
      "execution_count": null,
      "outputs": []
    },
    {
      "cell_type": "markdown",
      "metadata": {
        "id": "Ez0qUFqIBIkF"
      },
      "source": [
        "# Passages à zéro sur rayon  "
      ]
    },
    {
      "cell_type": "markdown",
      "metadata": {
        "id": "LvlKVIYTPCj8"
      },
      "source": [
        "\n",
        "\n",
        "> Le but de cette partie est d'avoir une fonction qui ,pour un rayon donné,  nous renvoit les deux points consécutifs correspondant aux passage par zéro  ,donc quand on croise S', les plus proches du point de requête.\n",
        "\n",
        "\n",
        "\n",
        "> Ces deux points étant les meilleurs points ,pour un rayon donné, entre lesquels on va faire la bissection\\newton\\dichotomie\n",
        "\n"
      ]
    },
    {
      "cell_type": "code",
      "metadata": {
        "id": "ByhRuXP8FiHb"
      },
      "source": [
        "def evaluate_f(query, o1):\n",
        "    \"\"\"\n",
        "    retourne la distance signée entre le point de requête, query, et S' (premier offset)\n",
        "    \"\"\"\n",
        "    return dist_oracle.distance(query) - o1"
      ],
      "execution_count": null,
      "outputs": []
    },
    {
      "cell_type": "code",
      "metadata": {
        "id": "UhHN_7pLNPaZ"
      },
      "source": [
        "def evaluate_fmat(mat_query, o1):\n",
        "    \"\"\"\n",
        "    retourne une liste des distances signées entre la matrice de points de requête, mat_query, et S' (premier offset)\n",
        "    \"\"\"\n",
        "    return dist_oracle.distance_matrix(mat_query) - o1"
      ],
      "execution_count": null,
      "outputs": []
    },
    {
      "cell_type": "code",
      "metadata": {
        "id": "ZD7rvmZv_KlK"
      },
      "source": [
        "def initialize_n_point(query, rayon, nb_point_init):\n",
        "    \"\"\"\n",
        "    Initialise nb_point_init points le long du rayon, rayon, pour le point de requête, query.\n",
        "    Le pas entre ces points est : longueur_de_la_diagonale/nb_point_init\n",
        "\n",
        "    Retourne: une matrice nb_point_init*2 ; volontairement ordonnée telle que son premier élément est le point initial le plus à gauche (sur le graphe de plt)\n",
        "    Ce détail est important, par la suite, lors des recherches des passages à zéro. \n",
        "    \"\"\"\n",
        "\n",
        "    pas = img_size * np.sqrt(2) / nb_point_init  #longueur de la diagonale divisée par nb_point_init\n",
        "    candidates = np.arange(-nb_point_init, nb_point_init).reshape((-1, 1)) * pas * rayon.reshape((1, -1)) + query.reshape((1, -1))\n",
        "    mask = np.all(np.bitwise_and(candidates >= 0, candidates < img_size), 1)\n",
        "    res = candidates[mask]\n",
        "\n",
        "    return res"
      ],
      "execution_count": null,
      "outputs": []
    },
    {
      "cell_type": "markdown",
      "metadata": {
        "id": "4RRLGQnIvS7T"
      },
      "source": [
        "\n",
        "\n",
        "> Etant donné un rayon, un point de requête, cette fonction retourne les paires de points CONSECUTIFS qui correspondent à un changement de signe pour la fonction distance signée à S'\n",
        "\n",
        "\n",
        "\n",
        "> Parmi nos n points initiaux, on commence sur celui qui est le plus en haut à gauche. On parcourt chaque paire de point consécutif le long du rayon et si une paire correspond à un changement de signe on stocke celui le plus à gauche parmi cette paire candidate à un changement de signe \n",
        "\n",
        "\n",
        "\n",
        "> Si aucune paire de point candidate à un changement de signe n'a été trouvé on retourne None, sinon on retourne la matrice nx2 avec n le nombre de couples trouvée\n",
        "\n",
        "\n",
        "\n",
        "\n"
      ]
    },
    {
      "cell_type": "code",
      "metadata": {
        "id": "fUEkBcqC2dnb"
      },
      "source": [
        "def find_zero_on_r(query, rayon, nb_point_init):\n",
        "    \"\"\"\n",
        "    Parmi les points initiaux d'un rayon, on cherche ceux les paires de points consécutifs qui chevauchent S'\n",
        "\n",
        "    Retourne une matrice contenant tous les couples de points concsécutifs candidats à un passage à zéro\n",
        "    \"\"\"\n",
        "\n",
        "    #on inititalise les points (on rappelle que le premier élément dans points est le point initial le plus à gauche sur le rayon)\n",
        "    points = initialize_n_point(query, rayon, nb_point_init)\n",
        "    funcs = evaluate_fmat(points, o1)\n",
        "    indices_zeros = np.where((np.diff(np.sign(funcs)) != 0) == 1)[0]\n",
        "  #on a tous les indices du point gauche des paires de points candidats à un passage à zéro\n",
        "\n",
        "    if len(indices_zeros) == 0:\n",
        "        # print(\"Le rayon\",rayon,\"passant par\",query,\"n'intersecte jamais la surface S'\")\n",
        "        return None\n",
        "\n",
        "\n",
        "    return np.hstack((points[indices_zeros], points[indices_zeros + 1])).reshape((-1, 2))\n",
        "    #(points[i],points[i+1]) est le couple candidat à un passage à zéro\n",
        "    #on retourne la matrice contenant tous les couples de points candidats à un passage à zéro"
      ],
      "execution_count": null,
      "outputs": []
    },
    {
      "cell_type": "markdown",
      "metadata": {
        "id": "Sie_U0XLxrtK"
      },
      "source": [
        "\n",
        "\n",
        "> Ici on a des couples de points candidats à un passage à zéros sur un rayon, pour un point de requête donné, on veut savoir le couple de points le plus proche de ce point de requête\n",
        "\n",
        "\n",
        "\n",
        "---\n",
        "\n",
        "\n",
        "> Pour chaque point, on calcule leur distance à q et on prend le minimum parmi ces distances.\n",
        "\n",
        "> Ensuite, on trouve le point le plus proche du point précédemment trouvé. \n",
        "\n",
        "> Ainsi, avec les deux points précédemments trouvés, on a la paire de points, la plus proche du point de requête , associée à une intersection avec S'\n",
        "\n",
        "> On retourne un matrice 2x2 qui correspond à cette paire de points (deux points les plus proches de q le long d'un rayon qui chevauchent S')\n",
        "\n",
        "\n",
        "\n",
        "\n",
        "\n"
      ]
    },
    {
      "cell_type": "code",
      "metadata": {
        "id": "bdC6P0yaud90"
      },
      "source": [
        "def find_nearest_zero_from_q(query, points):\n",
        "    \"\"\"\n",
        "    points : matrice qui contient toutes les paires de points candidats (sera le résultat retourné par find_zero_on_r(query,rayon,nb_point_init))\n",
        "\n",
        "    Retourne une matrice 2x2 qui correspond à le paire de points; tq ce sont les deux points consécutifs les plus proches de q le long du rayon qui chevauchent S'.\n",
        "    \"\"\"\n",
        "    #si précédemment aucun couple candidat n'a été trouvé\n",
        "    if type(points) == type(None):\n",
        "        return None\n",
        "\n",
        "    if len(points) == 2:\n",
        "        return points\n",
        "\n",
        "    distances = np.linalg.norm(points - query.reshape((1, -1)), axis = 1)\n",
        "    indice= np.argsort(distances)[0]\n",
        "\n",
        "    # on retourne la matrice 2*2 constituée des deux meilleurs points entre lesquels on va rechercher le zéro \n",
        "    if indice % 2 == 0:\n",
        "        return points[indice : indice + 2]\n",
        "    else:\n",
        "        return points[indice - 1 : indice + 1]"
      ],
      "execution_count": null,
      "outputs": []
    },
    {
      "cell_type": "code",
      "metadata": {
        "id": "IejjNqZKJaoK"
      },
      "source": [
        "def plot_fonction_distance(query, rayon, nb_point_init, o1):\n",
        "    \"\"\"\n",
        "    Trace la fonction distance signée à S' sur un graphe (on obtient donc un nuage de point)\n",
        "    L'axe des x correspond au rayon ; se déplacer selon l'axe x revient à se déplacer sur le rayon\n",
        "    Les passages à zéro de la fonction correspondent donc aux intersections entre le rayon et S'\n",
        "    \"\"\"\n",
        "\n",
        "    points = initialize_n_point(query, rayon, nb_point_init)\n",
        "    funcs = evaluate_fmat(points, o1)\n",
        "\n",
        "    #nuage de point représentant la fonction distance signée à S', où l'abscisse représente le rayon\n",
        "    plt.scatter(points[:, 0], points[:, 1], c = funcs)\n",
        "    plt.scatter(query[0], query[1], c = 'r')\n",
        "    plt.grid()\n",
        "\n",
        "    tt = \"Fonction distance signée à S'. Pour q:\", query, \"et rayon:\", rayon\n",
        "    plt.title(tt)"
      ],
      "execution_count": null,
      "outputs": []
    },
    {
      "cell_type": "markdown",
      "metadata": {
        "id": "MzlMGXm7Or8u"
      },
      "source": [
        "# Recherche de zéros (passage sur S') le long d'un rayon\n",
        "\n",
        "\n",
        "*   Bissection récursive\n",
        "*   Newton\n",
        "*   Bissection Linéaire"
      ]
    },
    {
      "cell_type": "markdown",
      "metadata": {
        "id": "sjMFATav20xl"
      },
      "source": [
        "\n",
        "\n",
        "> Etant donné une paire de points qui sont les plus proches points de q sur le rayon r chevauchant S', on effectue une dichotomie entre ces deux points le long du rayon pour trouver le point sur S' le long du rayon.\n",
        "\n",
        "\n",
        "\n",
        "> Recherche de zéro de fonction le long d'un rayon par dichotomie\n",
        "\n",
        "\n",
        "\n"
      ]
    },
    {
      "cell_type": "code",
      "metadata": {
        "id": "Rvw2FV9wmb6a"
      },
      "source": [
        "def bissection_rec(points, rayon):\n",
        "  \n",
        "    if type(points) == type(None):\n",
        "        return None\n",
        "\n",
        "    a, b = points[0], points[1]\n",
        "    fa = evaluate_f(a, o1)\n",
        "    fb = evaluate_f(b, o1)\n",
        "\n",
        "    while np.abs(fa) > epsilon and np.abs(fb) > epsilon and np.linalg.norm(a - b) > epsilon:  #ou supérieur à un epsilon très faible\n",
        "        mil = (a + b) / 2\n",
        "        fmil = evaluate_f(mil, o1)\n",
        "\n",
        "        if (fa * fmil) <= 0:\n",
        "            b = mil\n",
        "            fb = fmil\n",
        "        else:\n",
        "            a = mil\n",
        "            fa = fmil\n",
        "\n",
        "    #on retourne le point qui est sur S'\n",
        "    return a if np.abs(fa) < epsilon else b"
      ],
      "execution_count": null,
      "outputs": []
    },
    {
      "cell_type": "markdown",
      "metadata": {
        "id": "YQiMvg8P3LsA"
      },
      "source": [
        "\n",
        "\n",
        "> Approximation de la dérivée première de la fonction signée à S' d'un point sur le rayon telle que on prend ses deux voisins sur le rayon divisé par 2*pas \n",
        "\n",
        "\n",
        "> Schéma décentrée: $\\frac{f(x_{n+1})-f(x_{n-1})}{2h}$\n",
        "avec $x_{n+1}$ et $x_{n-1}$ les deux voisins de $x_n$ sur le rayon et $h$ l'écart entre deux points sur le rayon\n",
        "\n",
        "\n"
      ]
    },
    {
      "cell_type": "code",
      "metadata": {
        "id": "l02gn60_PpgL"
      },
      "source": [
        "def df(p, rayon):\n",
        "    r = rayon / 100\n",
        "    h = np.linalg.norm(r)\n",
        "    return (evaluate_f((p + r), o1) - evaluate_f((p - r), o1)) / (2 * h)"
      ],
      "execution_count": null,
      "outputs": []
    },
    {
      "cell_type": "markdown",
      "metadata": {
        "id": "8ygoRJ6d3fdm"
      },
      "source": [
        "\n",
        "\n",
        "> Etant donné le couple de point le plus proche de q sur le rayon r chevauchant S', on va choisir le plus proche de S' parmi ce couple de points. Et effectuer l'algo de newton à partir de ce point pour trouver le point sur le rayon r qui est sur S'\n",
        "\n",
        "\n",
        "\n",
        "> Recherche de zéro de fonction le long d'un rayon par l'algo de newton\n",
        "$x_{n+1}=x_n-\\frac{f(x_n)}{f'(x_n)}$\n",
        "\n",
        "\n"
      ]
    },
    {
      "cell_type": "code",
      "metadata": {
        "id": "-YMql3uu-qFE"
      },
      "source": [
        "def newton(points,rayon):  #version méthode des sécantes car dérivée approchée par différences finies\n",
        "\n",
        "    if type(points) == type(None):\n",
        "        return None\n",
        "\n",
        "    #on choisit le point le plus proche de S’ sur lequel on va commencer l’algo\n",
        "    x = points[0]\n",
        "    direction = rayon / np.linalg.norm(rayon)\n",
        "    if abs(evaluate_f(points[0],o1)) > abs(evaluate_f(points[1],o1)):\n",
        "        x = points[1]\n",
        "\n",
        "    fx = evaluate_f(x, o1)\n",
        "\n",
        "    while abs(fx) > epsilon:\n",
        "\n",
        "        dfx = df(x, rayon)\n",
        "        if abs(dfx) < 0.5:\n",
        "            # print(\"Invalid gradient!\")\n",
        "            return x\n",
        "            \n",
        "        x = x - ((fx / dfx) * direction) #formule de récurrence de l’algo de newton\n",
        "        fx = evaluate_f(x, o1)\n",
        "    return x"
      ],
      "execution_count": null,
      "outputs": []
    },
    {
      "cell_type": "code",
      "metadata": {
        "id": "5qUq-Tnl4LlI"
      },
      "source": [
        "def bissection_rec_lineaire(points, rayon):\r\n",
        "  \r\n",
        "    if type(points) == type(None):\r\n",
        "        return None\r\n",
        "\r\n",
        "    a, b = points[0], points[1]\r\n",
        "    fa = evaluate_f(a, o1)\r\n",
        "    fb = evaluate_f(b, o1)\r\n",
        "\r\n",
        "    while np.abs(fa) > epsilon and np.abs(fb) > epsilon and np.linalg.norm(a - b) > epsilon:  #ou supérieur à un epsilon très faible\r\n",
        "        #on cherche le point p sur le seg [a,b] d'où p=lambda*a+(1-lambda)*b\r\n",
        "        #tel que f(p)=0 donc lambda est solution de f(p)=0=lambda*f(a)+(1-lambda)*f(b)\r\n",
        "        lbda = fb/(fb-fa)\r\n",
        "\r\n",
        "        p = lbda*a + (1-lbda)*b\r\n",
        "\r\n",
        "        fp = evaluate_f(p, o1)\r\n",
        "\r\n",
        "        if (fa * fp) <= 0:\r\n",
        "            b = p\r\n",
        "            fb = fp\r\n",
        "        else:\r\n",
        "            a = p\r\n",
        "            fa = fp\r\n",
        "\r\n",
        "    #on retourne le point qui est sur S'\r\n",
        "    return a if np.abs(fa) < epsilon else b"
      ],
      "execution_count": null,
      "outputs": []
    },
    {
      "cell_type": "markdown",
      "metadata": {
        "id": "h7gVS9Fi0CkH"
      },
      "source": [
        "\n",
        "\n",
        "---\n",
        "\n"
      ]
    },
    {
      "cell_type": "markdown",
      "metadata": {
        "id": "JZfy84DQPRUV"
      },
      "source": [
        "# Recherche, parmi plusieurs rayons, du point associé à la distance minimale entre query et le point sur S'"
      ]
    },
    {
      "cell_type": "markdown",
      "metadata": {
        "id": "uYnxop002gUT"
      },
      "source": [
        " \n",
        "\n",
        "*   A ce stade, étant donné un point de requête q, on sait associer à chaque rayon le point sur S' le plus proche de q étant sur le rayon. Donc, pour chaque rayon est associé un point candidat.\n",
        "*   Maintenant, il reste à trouver le meilleur rayon ; c'est-à-dire, pour un point q donné, le rayon qui minimise la distance entre q et le point candidat qui lui est associé\n",
        "\n",
        "\n",
        "*   Une première idée pour trouver ce meilleur rayon est une **bissection récursive sur les angles**\n",
        "\n",
        "\n",
        "\n",
        "\n",
        "\n",
        "\n"
      ]
    },
    {
      "cell_type": "markdown",
      "metadata": {
        "id": "Kh6sNIQb4UK6"
      },
      "source": [
        "\n",
        "\n",
        "> Cette fonction génére $n$ rayons uniformément; cest-à-dire tous les $\\frac{2\\pi}{n}$.\n",
        "\n"
      ]
    },
    {
      "cell_type": "code",
      "metadata": {
        "id": "M3qCTIGolYXv"
      },
      "source": [
        "def init_rayon(nb_rayon):\n",
        "    \"\"\"\n",
        "    Génére nb_rayon rayons uniformément \n",
        "\n",
        "    Retourne une matrice nb_rayon*2 qui contient les pentes de chaque rayon créé\n",
        "    \"\"\"\n",
        "    #le pas de l'angle entre chaque rayon\n",
        "    step = np.arange(0, np.pi, np.pi / nb_rayon)\n",
        "    res = np.vstack((np.cos(step), np.sin(step)))\n",
        "\n",
        "    return res.T"
      ],
      "execution_count": null,
      "outputs": []
    },
    {
      "cell_type": "code",
      "metadata": {
        "id": "CfCggWbU4vB-"
      },
      "source": [
        "def plot_rayon_around_point(nb_rayon, query, nb_point_init):\n",
        "    \"\"\"\n",
        "    Dessine les rayons initiaux autour d'un point\n",
        "    \"\"\"\n",
        "    plot_signed_distance_field(dist_map,points)\n",
        "    t=init_rayon(nb_rayon)\n",
        "    for i in range(len(t)):\n",
        "        point_initiaux = initialize_n_point(query, t[i], nb_point_init)\n",
        "        plt.scatter(point_initiaux[:,0], point_initiaux[:,1])"
      ],
      "execution_count": null,
      "outputs": []
    },
    {
      "cell_type": "code",
      "metadata": {
        "id": "UK1XsWX9pGzL"
      },
      "source": [
        "def zero_sur_rayon(query, rayon, methode, nb_point_init):\n",
        "    \"\"\"\n",
        "    methode : procédé pour trouver point correspondant au zéro sur un rayon (bissection, newton...)\n",
        "    retourne un dictionnaire { rayon : point_min } où point_min est le point sur S' trouvé par methode\n",
        "    \"\"\"\n",
        "\n",
        "    meilleur_point = find_nearest_zero_from_q(query, find_zero_on_r(query, rayon, nb_point_init))\n",
        "\n",
        "    if type(meilleur_point) == type(None):\n",
        "        return None\n",
        "\n",
        "    # Au meilleur point on applique la recherche de zéro\n",
        "    point_offset = methode(meilleur_point, rayon)\n",
        "\n",
        "    #étant donnés un point de requête , un rayon et une méthode de recherche de zéro\n",
        "    #on renvoie le point sur S' et le rayon\n",
        "    #un dictionnaire clé : rayon, valeur : point_min\n",
        "    return point_offset"
      ],
      "execution_count": null,
      "outputs": []
    },
    {
      "cell_type": "markdown",
      "metadata": {
        "id": "ehktTto0is1U"
      },
      "source": [
        "\n",
        "\n",
        "---\n",
        "Pour un point de requête donné , on sait associer un rayon avec le point sur S' le plus proche du point de requête ; à travers une méthode de recherche par zéro.\n",
        "\n",
        "Pour un point de requête donné , on veut la liste de tous ces rayons associés au point candidat sur S'.\n",
        " \n",
        "Pour pouvoir ensuite faire une dichotomie angulaire parmi tous ces rayons, afin de trouver le meilleur rayon en terme de distance à q..."
      ]
    },
    {
      "cell_type": "code",
      "metadata": {
        "id": "JrDjyu00rx28"
      },
      "source": [
        "def zeros_pour_q(query, methode, nb_rayon, nb_point_init):\n",
        "    \"\"\"\n",
        "    Pour un point de requête query, on récupère pour chacun de ses rayons associés, les points sur l'offset et le rayon \n",
        "\n",
        "    Retourne deux np.array: rayons [n, 2] et zero points [n, 2]\n",
        "    \"\"\"\n",
        "\n",
        "    zero_rays, zero_points = [], []\n",
        "\n",
        "    #on récupère les rayons (leurs pentes)\n",
        "    rays = init_rayon(nb_rayon)\n",
        "\n",
        "    #pour chaque rayon\n",
        "    for i in range(len(rays)):\n",
        "        zeros = zero_sur_rayon(query, rays[i], methode, nb_point_init)\n",
        "        if type(zeros) != type(None):\n",
        "            #on récupère le point_min qui lui est associé ; s'il existe\n",
        "            zero_rays.append(rays[i])\n",
        "            zero_points.append(zeros)\n",
        "\n",
        "    #dictionnaire avec clé:le point de requête (converti en tuple) et valeur: liste de dictionnaires { rayon : point_min , ... }   ->   { query :  [ { rayon : point_min , ... } ] }\n",
        "    return np.array(zero_rays), np.array(zero_points)"
      ],
      "execution_count": null,
      "outputs": []
    },
    {
      "cell_type": "markdown",
      "metadata": {
        "id": "qxX_3wIwhxri"
      },
      "source": [
        "\n",
        "\n",
        "---\n",
        "Pour commencer la bissection angulaire, il faut trouver entre quels rayons on effectue cette bissection.\n",
        "\n",
        "On choisit le rayon minimal c'est-à-dire le rayon qui est associé au point sur S' le plus proche de q. \n",
        "\n",
        "On choisit ses deux voisins. \n",
        "\n",
        "On fera deux bissections angulaires entre le rayon minimal et son voisin de gauche ; et entre le rayon minimal et son voisin de droite.\n",
        "\n",
        "On garde le meilleur résultat entre les deux bissections."
      ]
    },
    {
      "cell_type": "code",
      "metadata": {
        "id": "Qc61eOUI7LV-"
      },
      "source": [
        "def find_min_and_2neig_among_rays(query, rayons, zero_points):\n",
        "    \"\"\"\n",
        "    data : appel à zero_pour_q() ; { query : [ { rayon1 : point_min1 } , { rayon2 : point_min2 } , ... , { rayonN : point_minN } ] }\n",
        "\n",
        "    Retourne : { query : [ { rayon1 : point_min1 } , { rayon2 : point_min2 } , { rayon3 : point_min3 } ] } on a donc la liste des rayons entre lesquels on va faire la dichotomie angulaire\n",
        "\n",
        "    \"\"\"\n",
        "    #data est un dictionnaire renvoyé par zero_pour_q pour un query donné\n",
        "    #sa clé est le query donné et ses valeurs sont des dictionnaires rayon-point_min (point_min étant le point sur S')\n",
        "\n",
        "    dists = np.linalg.norm(zero_points - query.reshape((1, -1)), axis = 1)\n",
        "    ind = np.argsort(dists)[0]\n",
        "\n",
        "    num_rayons = len(rayons)\n",
        "    final_inds = [(ind - 1) % num_rayons, ind, (ind + 1) % num_rayons]\n",
        "\n",
        "    # dic_final contient donc les 3 rayons entre lesquels on va bissecter sur les angles\n",
        "    return rayons[final_inds], zero_points[final_inds]"
      ],
      "execution_count": null,
      "outputs": []
    },
    {
      "cell_type": "markdown",
      "metadata": {
        "id": "LrK7fHinh0jb"
      },
      "source": [
        "Maintenant que nous savons les deux paires de rayons sur lesquels commencer la bissection angulaire, nous implémentons ce procédé."
      ]
    },
    {
      "cell_type": "code",
      "metadata": {
        "id": "28V6Qbqc7vLf"
      },
      "source": [
        "def bissection_angle(rayons, points, query, methode, nb_point_init):\n",
        "\n",
        "    a, b = rayons[0], rayons[1]\n",
        "    pa, pb = points[0], points[1]\n",
        "\n",
        "    while np.linalg.norm(a - b) > epsilon:  #si la pente des deux rayons est quasi pareil on arrete\n",
        "    # print(\"a=\",a[0],\"f(a)=\",np.linalg.norm(a[1]-query),\"\\n b=\",b[0],\"f(b)=\",np.linalg.norm(b[1]-query))\n",
        "    # print(\" lllll \",np.linalg.norm(a[0]-b[0]))\n",
        "\n",
        "        mil = (a + b) / 2\n",
        "\n",
        "        if np.linalg.norm(pa - query) < np.linalg.norm(pb - query):\n",
        "            b = mil\n",
        "            pb = methode(find_nearest_zero_from_q(query, find_zero_on_r(query, b, nb_point_init)), b)\n",
        "        else:\n",
        "            a = mil\n",
        "            pa = methode(find_nearest_zero_from_q(query, find_zero_on_r(query, a, nb_point_init)), a)\n",
        "            \n",
        "        if type(pa) == type(None):\n",
        "            return [b, pb]\n",
        "    \n",
        "        if type(pb) == type(None):\n",
        "            return [a, pa]\n",
        "\n",
        "    return [a, pa] if np.linalg.norm(pa - query) < np.linalg.norm(pb - query) else [b, pb]"
      ],
      "execution_count": null,
      "outputs": []
    },
    {
      "cell_type": "markdown",
      "metadata": {
        "id": "AN3vfdHrom-m"
      },
      "source": [
        "On choisit le meilleur résultat entre les deux bissections effectuées\n",
        "(celle faite avec le voisin de gauche et celle faite avec le voisin de droite)"
      ]
    },
    {
      "cell_type": "code",
      "metadata": {
        "id": "BX6xxkBht3Gc"
      },
      "source": [
        "def choose_best_bissec(res1, res2, query):\n",
        "    #res1 et res2 sont des listes de tableaux   [ rayon , point_min ]\n",
        "    #res1 et res2 sont les resultats renvoyés par les deux bissections angulaires faites ci-dessus\n",
        "    return res1 if np.linalg.norm(res1[1] - query) < np.linalg.norm(res2[1] - query) else res2"
      ],
      "execution_count": null,
      "outputs": []
    },
    {
      "cell_type": "markdown",
      "metadata": {
        "id": "GGi0NzPGpbz4"
      },
      "source": [
        "\n",
        "\n",
        "---\n",
        "\n"
      ]
    },
    {
      "cell_type": "code",
      "metadata": {
        "id": "picPdZ7UM-Iw"
      },
      "source": [
        "def find_concave_point(points):\r\n",
        "  #points doit définir les sommets du polygone dans un ordre CLOCKWISE\r\n",
        "  \r\n",
        "  #matrice des vecteurs [vertex i , vertex i-1] \r\n",
        "  vec_ab = np.roll(points, 1, axis = 0) - points\r\n",
        "  # tournés de -pi/2 ; rotate -90\r\n",
        "  vec_ab = vec_ab[:,[1, 0]]\r\n",
        "  vec_ab[:, 0] = -vec_ab[:, 0]\r\n",
        "  #matrice des vecteurs [vertex i , vertex i+1]\r\n",
        "  vec_ac = np.roll(points, -1, axis = 0) - points\r\n",
        "  # cross product\r\n",
        "  prod = (vec_ab * vec_ac).sum(1)\r\n",
        "  \r\n",
        "  return np.where(prod < 0)[0]\r\n",
        "\r\n",
        "  \r\n",
        "  # res=[]\r\n",
        "\r\n",
        "  # for i in range(points.shape[0]):\r\n",
        "\r\n",
        "  #   #segment [vertex i , vertex i-1]\r\n",
        "  #   seg_i_bef=points[i]-points[ (i-1) % points.shape[0] ]\r\n",
        "\r\n",
        "  #   #segment [vertex i , vertex i-1] tourné de -pi/2\r\n",
        "  #   seg_i_bef[0] , seg_i_bef[1] = -seg_i_bef[1] , seg_i_bef[0]\r\n",
        "\r\n",
        "  #   #segment [vertex i , vertex i+1]\r\n",
        "  #   seg_i_af=points[i]-points[ (i+1) % points.shape[0] ]\r\n",
        "\r\n",
        "  #   prod=np.vdot(seg_i_bef,seg_i_af)\r\n",
        "\r\n",
        "  #   if prod<0:\r\n",
        "  #     res.append(points[i])\r\n",
        "\r\n",
        "  # return np.array(res).reshape((-1,2))  \r\n"
      ],
      "execution_count": null,
      "outputs": []
    },
    {
      "cell_type": "code",
      "metadata": {
        "id": "LH5QL5-IYsmn"
      },
      "source": [
        "def get_points_concave_on_first_offset(points,indice,o1):\r\n",
        "\r\n",
        "  ind_left=(indice - 1) % len(points)\r\n",
        "  ind_rigth=(indice + 1) % len(points)\r\n",
        "\r\n",
        "  vects_i_ib= (points[ind_left]-points[indice])\r\n",
        "  vects_i_ib=vects_i_ib/np.linalg.norm(vects_i_ib,axis=1).reshape((-1,1))\r\n",
        "\r\n",
        "  vects_i_ia= (points[ind_rigth]-points[indice])\r\n",
        "  vects_i_ia=vects_i_ia/np.linalg.norm(vects_i_ia,axis=1).reshape((-1,1))\r\n",
        "  \r\n",
        "  vects_bissectrice=( vects_i_ia + vects_i_ib ) / 2\r\n",
        "  vects_bissectrice=vects_bissectrice/np.linalg.norm(vects_bissectrice,axis=1).reshape((-1,1))\r\n",
        "\r\n",
        "  angles=(vects_i_ia*vects_i_ib).sum(1)\r\n",
        "\r\n",
        "  distances = o1/np.sqrt( (1-angles) / 2 )\r\n",
        "  distances = distances.reshape((-1,1))\r\n",
        "\r\n",
        "  return points[indice] + distances*vects_bissectrice"
      ],
      "execution_count": null,
      "outputs": []
    },
    {
      "cell_type": "code",
      "metadata": {
        "id": "bO1opSeNIyKD"
      },
      "source": [
        "def find_nearest_concave_from_q(points_concaves,query):\r\n",
        "  if len(points_concaves)==0:\r\n",
        "    return 1e15\r\n",
        "\r\n",
        "  distances=np.linalg.norm( points_concaves - query.reshape((1,-1)) , axis=1)\r\n",
        "\r\n",
        "  return np.min(distances)"
      ],
      "execution_count": null,
      "outputs": []
    },
    {
      "cell_type": "code",
      "metadata": {
        "id": "2Nq2BY3wpLa4"
      },
      "source": [
        "def oracle_double_offset(query, o2, methode, nb_point_init, nb_rayon,points_concaves):\n",
        "    \"\"\"\n",
        "    Retourne la distance signée entre query et S''\n",
        "    \"\"\"\n",
        "\n",
        "    rayons, zero_points = zeros_pour_q(query, methode, nb_rayon, nb_point_init) \n",
        "    final_rayons, final_zeros = find_min_and_2neig_among_rays(query, rayons, zero_points)\n",
        "\n",
        "    left  = bissection_angle(final_rayons[:2], final_zeros[:2], query, methode, nb_point_init) #renvoie [ rayon , point_min ] \n",
        "    right = bissection_angle(final_rayons[1:], final_zeros[1:], query, methode, nb_point_init) #renvoie [ rayon , point_min ]\n",
        "\n",
        "    best = choose_best_bissec(left, right, query) #renvoie [ rayon , point_min ]\n",
        "\n",
        "    dist = np.linalg.norm(best[1] - query)\n",
        "    dist_concave=find_nearest_concave_from_q(points_concaves,query)\n",
        "\n",
        "    # on choisit la distance minimale entre celle renvoyée par la recherche bissec/newton ET celle entre le point concave le plus proche\n",
        "    dist=min(dist,dist_concave)\n",
        "\n",
        "    if evaluate_f(query, o1) < 0:\n",
        "        dist = -dist\n",
        "\n",
        "    return dist - o2"
      ],
      "execution_count": null,
      "outputs": []
    },
    {
      "cell_type": "code",
      "metadata": {
        "id": "NdQOt58mv2KN"
      },
      "source": [
        "def oracle_double_offset_wrapper(ind_coord):\n",
        "\n",
        "    global mat, o2, methode , points_concaves\n",
        "\n",
        "    dist = oracle_double_offset(mat[ind_coord], o2, methode, 20, 20, points_concaves)\n",
        "    return dist"
      ],
      "execution_count": null,
      "outputs": []
    },
    {
      "cell_type": "markdown",
      "metadata": {
        "id": "rSZF6zKGy8qs"
      },
      "source": [
        "# Main Function"
      ]
    },
    {
      "cell_type": "markdown",
      "metadata": {
        "id": "xf50YlUBy8qt"
      },
      "source": [
        "Read polygon..."
      ]
    },
    {
      "cell_type": "code",
      "metadata": {
        "colab": {
          "base_uri": "https://localhost:8080/",
          "height": 486
        },
        "id": "L3_U2p8Fy8qu",
        "outputId": "4bb6b63d-76a6-4030-bfcb-931356b089c0"
      },
      "source": [
        "# sablier et eclair\n",
        "points = read_xy(\"sapin.xy\")\n",
        "\n",
        "points=points[::-1]\n",
        "\n",
        "plot_polygon(points)"
      ],
      "execution_count": null,
      "outputs": [
        {
          "output_type": "display_data",
          "data": {
            "image/png": "[encoded data removed]",
            "text/plain": [
              "<Figure size 576x576 with 1 Axes>"
            ]
          },
          "metadata": {
            "tags": [],
            "needs_background": "light"
          }
        }
      ]
    },
    {
      "cell_type": "markdown",
      "metadata": {
        "id": "VK31PSGly8qv"
      },
      "source": [
        "Compute signed distance function..."
      ]
    },
    {
      "cell_type": "code",
      "metadata": {
        "id": "1XykoH56y8qv"
      },
      "source": [
        "dist_oracle = DistanceQuery()\n",
        "dist_oracle.update(points)"
      ],
      "execution_count": null,
      "outputs": []
    },
    {
      "cell_type": "code",
      "metadata": {
        "id": "nVCcTPyey8qv",
        "colab": {
          "base_uri": "https://localhost:8080/",
          "height": 486
        },
        "outputId": "0fb21d70-ae7f-4f6b-a189-5a7f5adaf867"
      },
      "source": [
        "xx, yy = np.meshgrid(range(img_size), range(img_size))\n",
        "mat = np.hstack((xx.reshape((-1, 1)), yy.reshape((-1, 1))))\n",
        "\n",
        "dist_map = dist_oracle.distance_matrix(mat).reshape((img_size, img_size))\n",
        "\n",
        "plot_signed_distance_field(dist_map, points)\n",
        "#dans dist_map le premier indice coorespond à l'axe des y (on se déplace selon la hauteur) et le deuxième c laxe des x"
      ],
      "execution_count": null,
      "outputs": [
        {
          "output_type": "display_data",
          "data": {
            "image/png": "[encoded data removed]",
            "text/plain": [
              "<Figure size 576x576 with 1 Axes>"
            ]
          },
          "metadata": {
            "tags": [],
            "needs_background": "light"
          }
        }
      ]
    },
    {
      "cell_type": "markdown",
      "metadata": {
        "id": "IYqOHiIDy8qv"
      },
      "source": [
        "Compute single offset polygon..."
      ]
    },
    {
      "cell_type": "code",
      "metadata": {
        "id": "qA116zUXy8qw",
        "colab": {
          "base_uri": "https://localhost:8080/",
          "height": 503
        },
        "outputId": "1481dba2-f1a9-44f2-f568-3f3096462837"
      },
      "source": [
        "o1 = 10\n",
        "single_offset = (dist_map < o1).astype(int)\n",
        "plot_offset(single_offset)\n",
        "\n",
        "\n",
        "# print(points)\n",
        "# print(find_concave_point(points))\n",
        "points_concaves=get_points_concave_on_first_offset(points,find_concave_point(points),o1)\n",
        "plt.scatter(points_concaves[:, 0], points_concaves[:, 1])\n",
        "# print(points_concaves)\n",
        "# qq=np.array([15,15])\n",
        "# find_nearest_concave_from_q(points_concaves,qq)\n",
        "# plt.scatter(qq[0],qq[1])"
      ],
      "execution_count": null,
      "outputs": [
        {
          "output_type": "execute_result",
          "data": {
            "text/plain": [
              "<matplotlib.collections.PathCollection at 0x7f39a13b30f0>"
            ]
          },
          "metadata": {
            "tags": []
          },
          "execution_count": 125
        },
        {
          "output_type": "display_data",
          "data": {
            "image/png": "[encoded data removed]",
            "text/plain": [
              "<Figure size 576x576 with 1 Axes>"
            ]
          },
          "metadata": {
            "tags": [],
            "needs_background": "light"
          }
        }
      ]
    },
    {
      "cell_type": "code",
      "metadata": {
        "id": "-Yy91WhWslov"
      },
      "source": [
        "o2=-5\n",
        "choix = { 1 : bissection_rec_lineaire , 2 : bissection_rec , 3 : newton }\n",
        "methode=choix[3]\n",
        "\n",
        "# Start the stopwatch / counter  \n",
        "t1_start = process_time() \n",
        "\n",
        "with Pool(8) as p:\n",
        "    values = list(tqdm(p.imap(oracle_double_offset_wrapper, range(len(mat))), total = len(mat)))\n",
        "\n",
        "# Stop the stopwatch / counter \n",
        "t1_stop = process_time()\n",
        "\n",
        "print(\"Elapsed time during the whole program in seconds:\", t1_stop-t1_start) \n",
        "\n",
        "values = np.array(values).reshape((img_size, img_size))"
      ],
      "execution_count": null,
      "outputs": []
    },
    {
      "cell_type": "code",
      "metadata": {
        "id": "2NkPZi19jxVP"
      },
      "source": [
        "with open('double_results_star.npy', 'wb') as f:\n",
        "    np.save(f, values)"
      ],
      "execution_count": null,
      "outputs": []
    },
    {
      "cell_type": "code",
      "metadata": {
        "id": "Awhu4yNTjxVP"
      },
      "source": [
        "# with open('double_results.npy', 'rb') as f:\n",
        "#     values = np.load(f)"
      ],
      "execution_count": null,
      "outputs": []
    },
    {
      "cell_type": "code",
      "metadata": {
        "id": "VlZZuWaStpIS"
      },
      "source": [
        "plot_signed_distance_field(values, points)"
      ],
      "execution_count": null,
      "outputs": []
    },
    {
      "cell_type": "code",
      "metadata": {
        "id": "6Y7vOEptjxVQ"
      },
      "source": [
        "double_offset = (values < 0).astype(int)\n",
        "plot_offset(double_offset)"
      ],
      "execution_count": null,
      "outputs": []
    },
    {
      "cell_type": "markdown",
      "metadata": {
        "id": "g96O1JnBlaTa"
      },
      "source": [
        "\r\n",
        "\r\n",
        "*   Réparer Newton\r\n",
        "*   Implémenter Bissec Linéaire\r\n",
        "*   Faire fonction stockant en amont les points concaves\r\n",
        "*   Avant de commencer la bissec angulaire pour choisir le rayon-voisin droite ou gauche, estimer le gradient qui indiqurait quel voisin prendre pour la bissec angulaire\r\n",
        "\r\n",
        "\r\n",
        "\r\n"
      ]
    }
  ]
}